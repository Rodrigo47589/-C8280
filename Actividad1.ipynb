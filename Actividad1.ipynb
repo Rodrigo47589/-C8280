{
  "nbformat": 4,
  "nbformat_minor": 0,
  "metadata": {
    "colab": {
      "provenance": [],
      "authorship_tag": "ABX9TyNNhUmHJLzZ2jz1M/lw9Lvh",
      "include_colab_link": true
    },
    "kernelspec": {
      "name": "python3",
      "display_name": "Python 3"
    },
    "language_info": {
      "name": "python"
    }
  },
  "cells": [
    {
      "cell_type": "markdown",
      "metadata": {
        "id": "view-in-github",
        "colab_type": "text"
      },
      "source": [
        "<a href=\"https://colab.research.google.com/github/Rodrigo47589/-C8280/blob/main/Actividad1.ipynb\" target=\"_parent\"><img src=\"https://colab.research.google.com/assets/colab-badge.svg\" alt=\"Open In Colab\"/></a>"
      ]
    },
    {
      "cell_type": "markdown",
      "source": [
        "Pregunta 1 : Mire en la parte superior e inferior de data.tsv entregado en esta actividad. Piensa en cómo se estructuran los datos. ¿Qué crees que significa cada columna? ¿Qué crees que significa cada fila?"
      ],
      "metadata": {
        "id": "mFomKc45m9R6"
      }
    },
    {
      "cell_type": "code",
      "execution_count": 12,
      "metadata": {
        "colab": {
          "base_uri": "https://localhost:8080/"
        },
        "id": "bNj6qWrPh47s",
        "outputId": "e58223eb-f696-459a-8491-94f158372027"
      },
      "outputs": [
        {
          "output_type": "stream",
          "name": "stdout",
          "text": [
            "order_id\tquantity\titem_name\tchoice_description\titem_price\n",
            "1\t1\tChips and Fresh Tomato Salsa\tNULL\t$2.39 \n",
            "1\t1\tIzze\t[Clementine]\t$3.39 \n",
            "1\t1\tNantucket Nectar\t[Apple]\t$3.39 \n",
            "1\t1\tChips and Tomatillo-Green Chili Salsa\tNULL\t$2.39 \n",
            "2\t2\tChicken Bowl\t[Tomatillo-Red Chili Salsa (Hot), [Black Beans, Rice, Cheese, Sour Cream]]\t$16.98 \n",
            "3\t1\tChicken Bowl\t[Fresh Tomato Salsa (Mild), [Rice, Cheese, Sour Cream, Guacamole, Lettuce]]\t$10.98 \n",
            "3\t1\tSide of Chips\tNULL\t$1.69 \n",
            "4\t1\tSteak Burrito\t[Tomatillo Red Chili Salsa, [Fajita Vegetables, Black Beans, Pinto Beans, Cheese, Sour Cream, Guacamole, Lettuce]]\t$11.75 \n",
            "4\t1\tSteak Soft Tacos\t[Tomatillo Green Chili Salsa, [Pinto Beans, Cheese, Sour Cream, Lettuce]]\t$9.25 \n"
          ]
        }
      ],
      "source": [
        "!head data.tsv"
      ]
    },
    {
      "cell_type": "markdown",
      "source": [
        "1. Las columnas son las caracteristicas/atributos que describe un datos. Por ejemplo: order_id, quantity,  item_name, choice_description e item_price\n",
        "\n",
        "2. Las filas significan el registro de datos en su respectiva columna. Por ejemplo:el numero de orden, el nombre del pedido,la cantidad del pedido, el precio del alimento y la descripción "
      ],
      "metadata": {
        "id": "F8lQ61XrnNMf"
      }
    },
    {
      "cell_type": "markdown",
      "source": [
        "Pregunta 2: ¿Cuántos pedidos parece haber?"
      ],
      "metadata": {
        "id": "u4Sy_2LAnEYM"
      }
    },
    {
      "cell_type": "code",
      "source": [
        "!tail data.tsv"
      ],
      "metadata": {
        "colab": {
          "base_uri": "https://localhost:8080/"
        },
        "id": "bwJFitb0i6D0",
        "outputId": "8e18781d-77ce-410e-d913-a63d08ba14fb"
      },
      "execution_count": 14,
      "outputs": [
        {
          "output_type": "stream",
          "name": "stdout",
          "text": [
            "1831\t1\tChips\tNULL\t$2.15 \n",
            "1831\t1\tBottled Water\tNULL\t$1.50 \n",
            "1832\t1\tChicken Soft Tacos\t[Fresh Tomato Salsa, [Rice, Cheese, Sour Cream]]\t$8.75 \n",
            "1832\t1\tChips and Guacamole\tNULL\t$4.45 \n",
            "1833\t1\tSteak Burrito\t[Fresh Tomato Salsa, [Rice, Black Beans, Sour Cream, Cheese, Lettuce, Guacamole]]\t$11.75 \n",
            "1833\t1\tSteak Burrito\t[Fresh Tomato Salsa, [Rice, Sour Cream, Cheese, Lettuce, Guacamole]]\t$11.75 \n",
            "1834\t1\tChicken Salad Bowl\t[Fresh Tomato Salsa, [Fajita Vegetables, Pinto Beans, Guacamole, Lettuce]]\t$11.25 \n",
            "1834\t1\tChicken Salad Bowl\t[Fresh Tomato Salsa, [Fajita Vegetables, Lettuce]]\t$8.75 \n",
            "1834\t1\tChicken Salad Bowl\t[Fresh Tomato Salsa, [Fajita Vegetables, Pinto Beans, Lettuce]]\t$8.75 \n",
            "\n"
          ]
        }
      ]
    },
    {
      "cell_type": "markdown",
      "source": [
        "!tail: Muestra las ultimas lineas.\n",
        "\n",
        "Con el uso de !tail, podemos ver que hay un total de 1834 pedidos "
      ],
      "metadata": {
        "id": "B0AIoxbvpMDS"
      }
    },
    {
      "cell_type": "markdown",
      "source": [
        "Pregunta 3: ¿Cuántas líneas hay en este archivo?"
      ],
      "metadata": {
        "id": "WuwHc9qapqai"
      }
    },
    {
      "cell_type": "code",
      "source": [
        "!wc -l data.tsv"
      ],
      "metadata": {
        "colab": {
          "base_uri": "https://localhost:8080/"
        },
        "id": "cpxUjUNdkSlK",
        "outputId": "55fae8fb-07ce-4f1d-9b8b-85e9d0523a5f"
      },
      "execution_count": 8,
      "outputs": [
        {
          "output_type": "stream",
          "name": "stdout",
          "text": [
            "4624 data.tsv\n"
          ]
        }
      ]
    },
    {
      "cell_type": "markdown",
      "source": [
        "!wc -l: Cuenta todas las lineas de un archivo \n",
        "\n",
        "Nos muestra que hay un total de 4624"
      ],
      "metadata": {
        "id": "rNXJN8APpwp0"
      }
    },
    {
      "cell_type": "markdown",
      "source": [
        "Pregunta 4: ¿Qué burrito es más popular, steak o chicken?"
      ],
      "metadata": {
        "id": "jM0vJQKIqGSc"
      }
    },
    {
      "cell_type": "code",
      "source": [
        "!grep -i 'steak burrito' data.tsv | wc -l"
      ],
      "metadata": {
        "colab": {
          "base_uri": "https://localhost:8080/"
        },
        "id": "Vp3aExiila0b",
        "outputId": "54002b36-fd44-4e78-f20e-6cd510e1b0e9"
      },
      "execution_count": 9,
      "outputs": [
        {
          "output_type": "stream",
          "name": "stdout",
          "text": [
            "368\n"
          ]
        }
      ]
    },
    {
      "cell_type": "code",
      "source": [
        "!grep -i 'chicken burrito' data.tsv | wc -l"
      ],
      "metadata": {
        "colab": {
          "base_uri": "https://localhost:8080/"
        },
        "id": "YeBS0elhlrPc",
        "outputId": "b964c046-fab7-436b-876d-1685675bc708"
      },
      "execution_count": 10,
      "outputs": [
        {
          "output_type": "stream",
          "name": "stdout",
          "text": [
            "553\n"
          ]
        }
      ]
    },
    {
      "cell_type": "markdown",
      "source": [
        "!grep -i: Especificar un patron del archivo contando las mayusculas y minusculas de ese patron como por ejemplo chicken burrito.\n",
        "\n",
        "Y con el wc -l contamos la lineas de ese patron.\n",
        "\n",
        "Vemos que el chicken burritos tiene mas lineas que el steak burrito.Es decir, el chicken burrito es el mas popular. "
      ],
      "metadata": {
        "id": "AcwW65qmqVt9"
      }
    },
    {
      "cell_type": "markdown",
      "source": [
        "Pregunta 5: ¿Los burritos de pollo suelen tener frijoles negros o frijoles pintos?"
      ],
      "metadata": {
        "id": "vOKJEPhmtEqy"
      }
    },
    {
      "cell_type": "code",
      "source": [
        "!grep -i 'chicken burrito' data.tsv | grep -i 'black beans' | wc -l"
      ],
      "metadata": {
        "colab": {
          "base_uri": "https://localhost:8080/"
        },
        "id": "89PIa_igtGjS",
        "outputId": "8d7c3874-2d10-42bc-f525-788b7cc14f59"
      },
      "execution_count": 15,
      "outputs": [
        {
          "output_type": "stream",
          "name": "stdout",
          "text": [
            "282\n"
          ]
        }
      ]
    },
    {
      "cell_type": "code",
      "source": [
        "!grep -i 'chicken burrito' data.tsv | grep -i 'pinto beans' | wc -l"
      ],
      "metadata": {
        "colab": {
          "base_uri": "https://localhost:8080/"
        },
        "id": "J_A1VnITtP6_",
        "outputId": "8d25842a-af3c-4e40-8609-f84472dd4530"
      },
      "execution_count": 16,
      "outputs": [
        {
          "output_type": "stream",
          "name": "stdout",
          "text": [
            "105\n"
          ]
        }
      ]
    },
    {
      "cell_type": "markdown",
      "source": [
        "Para especificar el chicken burrito con los frijoles negros y frijoles pintos. Del anterior codigo, le agregamos otro !grep -i para que el patron especificado, en este caso el chicken burrito, podamos buscar su caracteristica especificada. Por ejemplo: Chicken burrito with black beans (Burrito de pollo con frijoles negros)\n",
        "\n",
        "Y vemos que el black beans tiene mas lineas que el pinto beans. Es decir, los chicken burritos suelen tener mas black beans que pinto beans.\n",
        "\n"
      ],
      "metadata": {
        "id": "E8ojAsnMtQc_"
      }
    }
  ]
}